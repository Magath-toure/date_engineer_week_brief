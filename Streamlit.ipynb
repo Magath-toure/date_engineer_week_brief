{
 "cells": [
  {
   "cell_type": "markdown",
   "id": "635c498d-b440-4f76-b570-ec6a6a555c6b",
   "metadata": {},
   "source": [
    "# Streamlit"
   ]
  },
  {
   "cell_type": "markdown",
   "id": "d9f5afa6-0d53-4fcf-91cf-794288ed94d8",
   "metadata": {},
   "source": [
    "# Introduction à Streamlit\n",
    "## Qu'est-ce que Streamlit ?\n",
    "Streamlit est une bibliothèque Python qui permet de créer rapidement des applications web interactives à partir de scripts Python simples.\n",
    "\n",
    "## Pourquoi utiliser Streamlit ?\n",
    "- Facilité d'utilisation : Streamlit permet de créer des applications web avec peu de code.\n",
    "- Réactivité : Les applications sont réactives et se mettent à jour automatiquement lorsque les données changent.\n",
    "- Intégration simple : Il est facile d'intégrer des éléments interactifs tels que des graphiques, des widgets, et plus encore.\n",
    "\n",
    "## Installation de Streamlit\n",
    "```bash\n",
    "pip install streamlit"
   ]
  },
  {
   "cell_type": "markdown",
   "id": "f90ee372-9fa7-4875-848f-d7981fa10ca5",
   "metadata": {},
   "source": [
    "## Exemple pratique : Création d'une application web simple avec Streamlit"
   ]
  },
  {
   "cell_type": "code",
   "execution_count": 1,
   "id": "3ba6e198-5dad-4847-8442-1ba87782b39f",
   "metadata": {},
   "outputs": [],
   "source": [
    "# Importation de la bibliothèque\n",
    "import streamlit as st"
   ]
  },
  {
   "cell_type": "code",
   "execution_count": 2,
   "id": "90a3f778-984a-4cae-ae52-75d25e977012",
   "metadata": {},
   "outputs": [
    {
     "name": "stderr",
     "output_type": "stream",
     "text": [
      "2024-01-29 11:11:57.628 \n",
      "  \u001b[33m\u001b[1mWarning:\u001b[0m to view this Streamlit app on a browser, run it with the following\n",
      "  command:\n",
      "\n",
      "    streamlit run C:\\Users\\Utilisateur\\AppData\\Roaming\\Python\\Python312\\site-packages\\ipykernel_launcher.py [ARGUMENTS]\n"
     ]
    }
   ],
   "source": []
  }
 ],
 "metadata": {
  "kernelspec": {
   "display_name": "Python 3 (ipykernel)",
   "language": "python",
   "name": "python3"
  },
  "language_info": {
   "codemirror_mode": {
    "name": "ipython",
    "version": 3
   },
   "file_extension": ".py",
   "mimetype": "text/x-python",
   "name": "python",
   "nbconvert_exporter": "python",
   "pygments_lexer": "ipython3",
   "version": "3.12.1"
  }
 },
 "nbformat": 4,
 "nbformat_minor": 5
}
